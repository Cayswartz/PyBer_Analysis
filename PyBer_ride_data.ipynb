%matplotlib inline
matplotlib.pyplot as plt
numpy as np
pandas as pd

pyber_ride_df = pd.read_csv("Resources/PyBer_ride_data.csv")
pyber_ride_df